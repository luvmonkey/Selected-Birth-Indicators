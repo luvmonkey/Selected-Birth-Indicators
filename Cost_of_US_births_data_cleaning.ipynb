{
 "cells": [
  {
   "cell_type": "code",
   "execution_count": null,
   "metadata": {},
   "outputs": [],
   "source": [
    "#Import libraries\n",
    "import pandas as pd"
   ]
  },
  {
   "cell_type": "code",
   "execution_count": 41,
   "metadata": {},
   "outputs": [
    {
     "name": "stdout",
     "output_type": "stream",
     "text": [
      "   state_name vaginal_birth_with_insurance vaginal_birth_without_insurance  \\\n",
      "0     Alabama                    $5,230.46                       $9,516.86   \n",
      "1      Alaska                   $11,609.95                      $20,243.38   \n",
      "2     Arizona                    $8,034.32                      $14,812.45   \n",
      "3    Arkansas                    $5,724.24                      $10,172.09   \n",
      "4  California                    $7,755.49                      $13,974.77   \n",
      "\n",
      "  cesarean_with_insurance cesarean_without_insurance  \n",
      "0               $8,221.42                 $13,589.75  \n",
      "1              $16,707.29                 $28,617.34  \n",
      "2              $10,699.23                 $18,023.04  \n",
      "3               $8,616.81                 $13,970.83  \n",
      "4              $11,390.88                 $19,184.14  \n",
      "       state_name vaginal_birth_with_insurance  \\\n",
      "45       Virginia                    $6,517.02   \n",
      "46     Washington                    $7,043.42   \n",
      "47  West Virginia                    $6,163.94   \n",
      "48      Wisconsin                   $10,171.19   \n",
      "49    10. Wyoming                    $7,724.00   \n",
      "\n",
      "   vaginal_birth_without_insurance cesarean_with_insurance  \\\n",
      "45                      $12,342.55              $10,593.92   \n",
      "46                      $12,210.33              $10,725.39   \n",
      "47                      $11,108.51               $9,376.43   \n",
      "48                      $17,888.14              $14,239.59   \n",
      "49                      $13,143.39              $11,331.72   \n",
      "\n",
      "   cesarean_without_insurance  \n",
      "45                 $18,261.83  \n",
      "46                 $17,680.54  \n",
      "47                 $15,553.63  \n",
      "48                 $23,746.69  \n",
      "49                 $18,476.31  \n"
     ]
    }
   ],
   "source": [
    "# Load data\n",
    "cost_of_us_deliveries = pd.read_csv('cost_of_births_by_state_2019.csv')\n",
    "\n",
    "print(cost_of_us_deliveries.head())\n",
    "print(cost_of_us_deliveries.tail())"
   ]
  },
  {
   "cell_type": "code",
   "execution_count": null,
   "metadata": {},
   "outputs": [],
   "source": [
    "# Investigate type\n",
    "print(cost_of_us_deliveries.dtypes)"
   ]
  },
  {
   "cell_type": "code",
   "execution_count": null,
   "metadata": {},
   "outputs": [],
   "source": [
    "# Cleaning up the state names\n",
    "cost_of_us_deliveries['state_name'] = cost_of_us_deliveries['state_name'].apply(lambda x: str(x).split(' ')[-1].strip())\n",
    "\n",
    "# Wyoming is all fixed!\n",
    "print(cost_of_us_deliveries['state_name'])"
   ]
  },
  {
   "cell_type": "code",
   "execution_count": 46,
   "metadata": {},
   "outputs": [
    {
     "name": "stdout",
     "output_type": "stream",
     "text": [
      "state_name                          object\n",
      "vaginal_birth_with_insurance       float64\n",
      "vaginal_birth_without_insurance    float64\n",
      "cesarean_with_insurance            float64\n",
      "cesarean_without_insurance         float64\n",
      "dtype: object\n"
     ]
    }
   ],
   "source": [
    "# Cleaning up the costs so they can be floats\n",
    "def clean_money(amount):\n",
    "    cleaned_amount = float(str(amount).lstrip('$').replace(',', '').strip())\n",
    "    return cleaned_amount\n",
    "\n",
    "cost_of_us_deliveries['vaginal_birth_with_insurance'] = cost_of_us_deliveries['vaginal_birth_with_insurance'].apply(lambda x: clean_money(x))\n",
    "cost_of_us_deliveries['vaginal_birth_without_insurance'] = cost_of_us_deliveries['vaginal_birth_without_insurance'].apply(lambda x: clean_money(x))\n",
    "cost_of_us_deliveries['cesarean_with_insurance'] = cost_of_us_deliveries['cesarean_with_insurance'].apply(lambda x: clean_money(x))\n",
    "cost_of_us_deliveries['cesarean_without_insurance'] = cost_of_us_deliveries['cesarean_without_insurance'].apply(lambda x: clean_money(x))\n",
    "\n",
    "print(cost_of_us_deliveries.dtypes)\n"
   ]
  }
 ],
 "metadata": {
  "kernelspec": {
   "display_name": "Python 3.9.12 ('base')",
   "language": "python",
   "name": "python3"
  },
  "language_info": {
   "codemirror_mode": {
    "name": "ipython",
    "version": 3
   },
   "file_extension": ".py",
   "mimetype": "text/x-python",
   "name": "python",
   "nbconvert_exporter": "python",
   "pygments_lexer": "ipython3",
   "version": "3.9.12"
  },
  "orig_nbformat": 4,
  "vscode": {
   "interpreter": {
    "hash": "40d3a090f54c6569ab1632332b64b2c03c39dcf918b08424e98f38b5ae0af88f"
   }
  }
 },
 "nbformat": 4,
 "nbformat_minor": 2
}
