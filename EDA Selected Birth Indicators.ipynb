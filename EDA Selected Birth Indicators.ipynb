{
 "cells": [
  {
   "cell_type": "markdown",
   "metadata": {},
   "source": [
    "# EDA of Selected Birtrh Indicators Data Set\n",
    "\n",
    "This data was retrieved on November 21, 2022 from the CDC: https://data.cdc.gov/NCHS/NCHS-VSRR-Quarterly-provisional-estimates-for-sele/76vv-a7x8/data"
   ]
  },
  {
   "cell_type": "code",
   "execution_count": 156,
   "metadata": {},
   "outputs": [],
   "source": [
    "# Import libraries\n",
    "import pandas as pd\n",
    "import numpy as np\n",
    "from datetime import datetime as dt\n",
    "import matplotlib.pyplot as plt"
   ]
  },
  {
   "cell_type": "code",
   "execution_count": 157,
   "metadata": {},
   "outputs": [
    {
     "name": "stdout",
     "output_type": "stream",
     "text": [
      "  Year and Quarter        Topic            Topic Subgroup    Indicator  \\\n",
      "0          2022 Q2  Birth Rates  Age-specific Birth Rates  10-14 years   \n",
      "1          2022 Q2  Birth Rates  Age-specific Birth Rates  10-14 years   \n",
      "2          2022 Q2  Birth Rates  Age-specific Birth Rates  10-14 years   \n",
      "3          2022 Q2  Birth Rates  Age-specific Birth Rates  10-14 years   \n",
      "4          2022 Q2  Birth Rates  Age-specific Birth Rates  15-19 years   \n",
      "\n",
      "  Race Ethnicity Category  Rate                  Unit Significant  \n",
      "0   All races and origins   0.2  per 1,000 population         NaN  \n",
      "1                Hispanic   0.3  per 1,000 population         NaN  \n",
      "2      Non-Hispanic Black   0.3  per 1,000 population           *  \n",
      "3      Non-Hispanic White   0.1  per 1,000 population         NaN  \n",
      "4   All races and origins  13.7  per 1,000 population           *  \n"
     ]
    }
   ],
   "source": [
    "# Load data\n",
    "sbi_data = pd.read_csv('NCHS_-_VSRR_Quarterly_provisional_estimates_for_selected_birth_indicators.csv')\n",
    "\n",
    "# Take a peek!\n",
    "print(sbi_data.head())"
   ]
  },
  {
   "cell_type": "code",
   "execution_count": 158,
   "metadata": {},
   "outputs": [
    {
     "name": "stdout",
     "output_type": "stream",
     "text": [
      "<class 'pandas.core.frame.DataFrame'>\n",
      "RangeIndex: 1000 entries, 0 to 999\n",
      "Data columns (total 8 columns):\n",
      " #   Column                   Non-Null Count  Dtype  \n",
      "---  ------                   --------------  -----  \n",
      " 0   Year and Quarter         1000 non-null   object \n",
      " 1   Topic                    1000 non-null   object \n",
      " 2   Topic Subgroup           1000 non-null   object \n",
      " 3   Indicator                1000 non-null   object \n",
      " 4   Race Ethnicity Category  1000 non-null   object \n",
      " 5   Rate                     1000 non-null   float64\n",
      " 6   Unit                     1000 non-null   object \n",
      " 7   Significant              84 non-null     object \n",
      "dtypes: float64(1), object(7)\n",
      "memory usage: 62.6+ KB\n",
      "None\n",
      "              Rate\n",
      "count  1000.000000\n",
      "mean     28.419060\n",
      "std      28.223903\n",
      "min       0.100000\n",
      "25%       7.440000\n",
      "50%      14.600000\n",
      "75%      49.125000\n",
      "max     111.800000\n"
     ]
    }
   ],
   "source": [
    "# Let's get a more detailed view of the data\n",
    "print(sbi_data.info()) # View column names, dtypes, and notice missing data\n",
    "print(sbi_data.describe()) # Some basic stats"
   ]
  },
  {
   "cell_type": "markdown",
   "metadata": {},
   "source": [
    "There are 8 columns and 1,000 rows of data. The final column, 'Significant', has several missing values. I will look into this column to see if I can convert it to a Boolean column or not. The'Rate' column is the only one that contains numerical data, but 'Year and Quarter' can likely be converted into format to measure time. The rest appear nominal and categorical, which means there is a lot of grouping in the future. "
   ]
  },
  {
   "cell_type": "code",
   "execution_count": 159,
   "metadata": {},
   "outputs": [
    {
     "name": "stdout",
     "output_type": "stream",
     "text": [
      "Year and Quarter\n",
      "['2022 Q2' '2022 Q1' '2021 Q4' '2021 Q3' '2021 Q2' '2021 Q1' '2020 Q4'\n",
      " '2020 Q3' '2020 Q2' '2020 Q1']\n",
      "Topic\n",
      "['Birth Rates' 'Birthweight' 'Gestational Age' 'Method of Delivery'\n",
      " 'NICU Admission' 'Source of Payment for the Delivery']\n",
      "Topic Subgroup\n",
      "['Age-specific Birth Rates' 'General Fertility Rates' 'Teen Birth Rates'\n",
      " 'Low Birthweight Rates' 'Preterm Birth Rates' 'Term Birth Rates'\n",
      " 'Cesarean Delivery Rates' 'Vaginal Birth After Cesarean Delivery Rates'\n",
      " 'NICU Admission Rates' 'Medicaid']\n",
      "Indicator\n",
      "['10-14 years' '15-19 years' '20-24 years' '25-29 years' '30-34 years'\n",
      " '35-39 years' '40-44 years' '45+ years' '15-44 years' '15-17 years'\n",
      " '18-19 years' 'Low birthweight (Less than 2,500g)'\n",
      " 'Early preterm (<34 weeks)' 'Late preterm (34-36 weeks)'\n",
      " 'Total preterm (<37 weeks)' 'Early term (37-38 weeks)'\n",
      " 'Full term (39-40 weeks)' 'Late term (41 weeks)' 'Cesarean'\n",
      " 'Low-risk Cesarean' 'Vaginal Birth After Cesarean Delivery'\n",
      " 'NICU Admission' 'Medicaid']\n",
      "Race Ethnicity Category\n",
      "['All races and origins' 'Hispanic' 'Non-Hispanic Black'\n",
      " 'Non-Hispanic White']\n",
      "Rate\n",
      "[2.000e-01 3.000e-01 1.000e-01 1.370e+01 2.100e+01 2.080e+01 9.200e+00\n",
      " 6.090e+01 8.300e+01 7.730e+01 5.100e+01 9.340e+01 1.118e+02 9.200e+01\n",
      " 9.090e+01 9.770e+01 1.014e+02 8.030e+01 1.009e+02 5.480e+01 5.770e+01\n",
      " 4.960e+01 5.310e+01 1.240e+01 1.500e+01 1.340e+01 1.070e+01 1.000e+00\n",
      " 1.100e+00 1.300e+00 9.000e-01 5.640e+01 6.510e+01 5.720e+01 5.370e+01\n",
      " 5.500e+00 9.000e+00 3.100e+00 2.600e+01 3.960e+01 3.880e+01 1.810e+01\n",
      " 8.620e+00 7.910e+00 1.478e+01 7.120e+00 2.790e+00 2.640e+00 4.930e+00\n",
      " 2.300e+00 7.670e+00 7.550e+00 9.720e+00 7.180e+00 1.046e+01 1.019e+01\n",
      " 1.465e+01 9.480e+00 2.904e+01 3.003e+01 3.244e+01 2.737e+01 5.560e+01\n",
      " 5.536e+01 4.907e+01 5.760e+01 4.900e+00 4.420e+00 3.840e+00 5.550e+00\n",
      " 3.220e+01 3.170e+01 3.680e+01 3.110e+01 2.630e+01 2.550e+01 3.100e+01\n",
      " 2.530e+01 1.440e+01 1.390e+01 1.420e+01 1.450e+01 9.500e+00 8.700e+00\n",
      " 1.300e+01 4.100e+01 5.810e+01 6.380e+01 2.780e+01 2.120e+01 2.140e+01\n",
      " 9.300e+00 6.130e+01 8.310e+01 7.850e+01 5.150e+01 9.370e+01 1.110e+02\n",
      " 9.230e+01 9.180e+01 9.820e+01 1.002e+02 1.022e+02 5.460e+01 5.680e+01\n",
      " 4.910e+01 5.330e+01 1.230e+01 1.490e+01 1.320e+01 1.060e+01 8.000e-01\n",
      " 5.660e+01 6.480e+01 5.750e+01 5.430e+01 5.600e+00 3.200e+00 2.640e+01\n",
      " 3.980e+01 1.840e+01 8.560e+00 7.830e+00 1.471e+01 7.080e+00 2.630e+00\n",
      " 4.910e+00 2.310e+00 9.760e+00 1.017e+01 1.468e+01 9.490e+00 2.895e+01\n",
      " 2.998e+01 3.237e+01 2.725e+01 5.573e+01 5.549e+01 4.920e+01 5.772e+01\n",
      " 4.860e+00 4.360e+00 3.750e+00 5.530e+00 3.210e+01 3.160e+01 1.430e+01\n",
      " 1.400e+01 1.290e+01 4.090e+01 5.800e+01 6.390e+01 2.110e+01 2.180e+01\n",
      " 9.400e+00 6.150e+01 8.230e+01 7.910e+01 5.200e+01 9.300e+01 1.083e+02\n",
      " 9.190e+01 9.760e+01 9.750e+01 7.970e+01 1.023e+02 5.490e+01 4.820e+01\n",
      " 5.280e+01 1.200e+01 1.280e+01 1.050e+01 1.200e+00 5.630e+01 6.340e+01\n",
      " 5.740e+01 5.440e+01 2.660e+01 4.060e+01 1.870e+01 8.520e+00 7.820e+00\n",
      " 1.466e+01 7.030e+00 2.810e+00 2.670e+00 4.950e+00 7.570e+00 9.800e+00\n",
      " 1.049e+01 1.023e+01 1.475e+01 2.876e+01 2.983e+01 3.227e+01 2.704e+01\n",
      " 5.590e+01 5.562e+01 4.928e+01 5.793e+01 4.850e+00 4.320e+00 3.700e+00\n",
      " 5.540e+00 3.120e+01 2.520e+01 1.350e+01 1.380e+01 9.600e+00 8.900e+00\n",
      " 9.100e+00 6.400e+01 2.810e+01 4.000e-01 1.410e+01 2.230e+01 8.160e+01\n",
      " 7.990e+01 1.059e+02 9.060e+01 9.590e+01 9.480e+01 7.900e+01 1.006e+02\n",
      " 5.220e+01 5.340e+01 4.740e+01 5.130e+01 1.170e+01 1.260e+01 1.020e+01\n",
      " 6.220e+01 5.730e+01 5.360e+01 5.700e+00 2.690e+01 4.010e+01 4.120e+01\n",
      " 1.890e+01 8.410e+00 7.680e+00 1.454e+01 6.930e+00 2.780e+00 2.620e+00\n",
      " 4.920e+00 2.280e+00 7.610e+00 7.510e+00 7.100e+00 1.038e+01 1.014e+01\n",
      " 1.469e+01 9.380e+00 2.857e+01 2.969e+01 3.215e+01 2.681e+01 5.617e+01\n",
      " 5.585e+01 4.951e+01 5.821e+01 4.880e+00 3.650e+00 3.200e+01 3.090e+01\n",
      " 2.620e+01 4.130e+01 5.830e+01 6.420e+01 2.860e+01 2.170e+01 2.280e+01\n",
      " 6.170e+01 8.150e+01 8.070e+01 5.210e+01 9.100e+01 1.047e+02 8.960e+01\n",
      " 9.470e+01 9.330e+01 7.840e+01 9.920e+01 5.140e+01 4.670e+01 5.030e+01\n",
      " 1.150e+01 1.000e+01 7.000e-01 5.520e+01 5.800e+00 9.700e+00 9.900e+00\n",
      " 2.720e+01 4.050e+01 4.170e+01 1.910e+01 8.320e+00 7.540e+00 1.439e+01\n",
      " 6.870e+00 2.740e+00 2.580e+00 4.870e+00 2.250e+00 7.440e+00 9.750e+00\n",
      " 1.028e+01 1.003e+01 1.462e+01 9.280e+00 2.835e+01 2.946e+01 3.190e+01\n",
      " 2.657e+01 5.643e+01 5.612e+01 4.976e+01 5.849e+01 4.940e+00 4.390e+00\n",
      " 3.720e+00 5.670e+00 3.150e+01 3.670e+01 2.610e+01 2.510e+01 1.360e+01\n",
      " 8.800e+00 4.160e+01 5.840e+01 6.450e+01 2.890e+01 2.200e+01 2.300e+01\n",
      " 6.210e+01 8.170e+01 8.190e+01 5.250e+01 9.050e+01 1.042e+02 9.240e+01\n",
      " 8.860e+01 9.390e+01 9.270e+01 7.880e+01 9.800e+01 5.090e+01 5.260e+01\n",
      " 4.660e+01 1.140e+01 5.500e+01 5.270e+01 5.900e+00 1.010e+01 3.300e+00\n",
      " 2.740e+01 4.190e+01 1.940e+01 8.260e+00 7.460e+00 1.425e+01 6.830e+00\n",
      " 2.720e+00 2.560e+00 4.830e+00 2.220e+00 7.360e+00 9.620e+00 1.016e+01\n",
      " 9.920e+00 1.445e+01 9.150e+00 2.793e+01 2.910e+01 3.144e+01 2.613e+01\n",
      " 5.683e+01 5.646e+01 5.025e+01 5.890e+01 5.080e+00 4.520e+00 3.860e+00\n",
      " 5.810e+00 3.660e+01 3.080e+01 2.540e+01 2.500e+01 1.330e+01 5.850e+01\n",
      " 6.460e+01 2.920e+01 1.540e+01 2.350e+01 2.440e+01 1.040e+01 6.300e+01\n",
      " 8.320e+01 8.370e+01 5.300e+01 9.020e+01 1.045e+02 9.290e+01 8.760e+01\n",
      " 9.490e+01 9.440e+01 8.000e+01 9.830e+01 5.180e+01 5.390e+01 4.760e+01\n",
      " 5.010e+01 1.180e+01 1.270e+01 5.600e+01 6.310e+01 5.920e+01 5.320e+01\n",
      " 6.300e+00 1.080e+01 3.500e+00 4.330e+01 4.390e+01 2.050e+01 8.240e+00\n",
      " 7.400e+00 1.419e+01 6.840e+00 2.700e+00 2.520e+00 4.820e+00 2.210e+00\n",
      " 7.320e+00 9.540e+00 6.900e+00 1.009e+01 9.840e+00 1.436e+01 2.778e+01\n",
      " 2.900e+01 3.122e+01 2.598e+01 5.700e+01 5.661e+01 5.047e+01 5.908e+01\n",
      " 5.120e+00 4.560e+00 3.950e+00 5.840e+00 3.180e+01 3.140e+01 3.630e+01\n",
      " 2.590e+01 3.060e+01 2.490e+01 4.200e+01 5.860e+01 6.470e+01 2.930e+01\n",
      " 1.580e+01 2.400e+01 2.480e+01 6.410e+01 8.450e+01 8.550e+01 9.130e+01\n",
      " 1.058e+02 9.450e+01 8.840e+01 9.630e+01 9.510e+01 8.120e+01 9.970e+01\n",
      " 4.800e+01 5.080e+01 1.460e+01 6.010e+01 5.400e+01 6.400e+00 3.600e+00\n",
      " 2.960e+01 4.420e+01 4.490e+01 8.290e+00 7.450e+00 1.417e+01 6.890e+00\n",
      " 2.540e+00 2.230e+00 7.430e+00 7.350e+00 9.530e+00 6.940e+00 1.015e+01\n",
      " 9.890e+00 9.170e+00 2.769e+01 2.892e+01 3.105e+01 2.589e+01 5.701e+01\n",
      " 5.659e+01 5.055e+01 5.910e+01 5.150e+00 4.610e+00 4.010e+00 5.850e+00\n",
      " 3.610e+01 2.580e+01 3.030e+01 1.610e+01 2.460e+01 1.090e+01 6.550e+01\n",
      " 8.630e+01 8.710e+01 5.510e+01 9.260e+01 1.072e+02 9.600e+01 1.008e+02\n",
      " 5.470e+01 4.810e+01 1.210e+01 1.470e+01 6.100e+01 6.500e+00 1.100e+01\n",
      " 3.020e+01 4.520e+01 4.580e+01 2.150e+01 8.300e+00 7.480e+00 2.240e+00\n",
      " 7.340e+00 9.430e+00 6.950e+00 1.435e+01 9.190e+00 2.753e+01 2.880e+01\n",
      " 3.081e+01 2.574e+01 5.710e+01 5.664e+01 5.078e+01 5.915e+01 5.210e+00\n",
      " 4.660e+00 4.060e+00 5.920e+00 3.130e+01 3.590e+01 3.070e+01 2.560e+01\n",
      " 3.010e+01 2.470e+01 5.870e+01 1.640e+01 1.120e+01 6.620e+01 8.740e+01\n",
      " 8.790e+01 5.580e+01 9.360e+01 1.081e+02 9.650e+01 9.070e+01 9.660e+01\n",
      " 8.260e+01 1.016e+02 5.450e+01 5.110e+01 6.520e+01 6.600e+00 1.130e+01\n",
      " 1.110e+01 4.610e+01 2.190e+01 6.910e+00 2.760e+00 2.600e+00 2.260e+00\n",
      " 7.470e+00 7.390e+00 6.990e+00 9.990e+00 1.444e+01 9.250e+00 2.749e+01\n",
      " 2.881e+01 3.065e+01 5.650e+01 5.077e+01 5.902e+01 5.280e+00 4.700e+00\n",
      " 4.130e+00 5.990e+00 2.990e+01]\n",
      "Unit\n",
      "['per 1,000 population' 'per 100 births']\n",
      "Significant\n",
      "[nan '*']\n"
     ]
    }
   ],
   "source": [
    "# There is a lot of repetition of nominal values, so let's take a look at the unique values of the columns.\n",
    "for col in sbi_data.columns:\n",
    "    print(col)\n",
    "    print(sbi_data[col].unique())"
   ]
  },
  {
   "cell_type": "code",
   "execution_count": 160,
   "metadata": {},
   "outputs": [
    {
     "name": "stdout",
     "output_type": "stream",
     "text": [
      "Birth Rates\n",
      "['Age-specific Birth Rates' 'General Fertility Rates' 'Teen Birth Rates']\n",
      "Birthweight\n",
      "['Low Birthweight Rates']\n",
      "Gestational Age\n",
      "['Preterm Birth Rates' 'Term Birth Rates']\n",
      "Method of Delivery\n",
      "['Cesarean Delivery Rates' 'Vaginal Birth After Cesarean Delivery Rates']\n",
      "NICU Admission\n",
      "['NICU Admission Rates']\n",
      "Source of Payment for the Delivery\n",
      "['Medicaid']\n"
     ]
    }
   ],
   "source": [
    "# Let's take a further look into how topic and topic subgroup are related\n",
    "\n",
    "for topic in sbi_data['Topic'].unique():\n",
    "    print(topic)\n",
    "    # Print the subgroups associated with each topic\n",
    "    print(sbi_data['Topic Subgroup'][sbi_data['Topic'] == topic].unique()) "
   ]
  },
  {
   "cell_type": "code",
   "execution_count": 161,
   "metadata": {},
   "outputs": [
    {
     "name": "stdout",
     "output_type": "stream",
     "text": [
      "  Year and Quarter Date of Quarter Start\n",
      "0          2022 Q2            2022-04-01\n",
      "1          2022 Q2            2022-04-01\n",
      "2          2022 Q2            2022-04-01\n",
      "3          2022 Q2            2022-04-01\n",
      "4          2022 Q2            2022-04-01\n",
      "    Year and Quarter Date of Quarter Start\n",
      "995          2020 Q1            2020-01-01\n",
      "996          2020 Q1            2020-01-01\n",
      "997          2020 Q1            2020-01-01\n",
      "998          2020 Q1            2020-01-01\n",
      "999          2020 Q1            2020-01-01\n",
      "['2022-04-01T00:00:00.000000000' '2022-01-01T00:00:00.000000000'\n",
      " '2021-10-01T00:00:00.000000000' '2021-07-01T00:00:00.000000000'\n",
      " '2021-04-01T00:00:00.000000000' '2021-01-01T00:00:00.000000000'\n",
      " '2020-10-01T00:00:00.000000000' '2020-07-01T00:00:00.000000000'\n",
      " '2020-04-01T00:00:00.000000000' '2020-01-01T00:00:00.000000000']\n"
     ]
    }
   ],
   "source": [
    "# I want the quarters to be recognized as time, so I'm adding a new column with datetimes to match with each quarter.\n",
    "\n",
    "def convert_to_date(year_and_quarter):\n",
    "    # Grab just the year and turn it into an integer\n",
    "    year = int(str(year_and_quarter).split()[0])\n",
    "    # Grab just the quarter and turn it into an integer\n",
    "    quarter = int(str(year_and_quarter).split()[1][-1])\n",
    "    # Calculate the month that corresponds to the start of the quarter\n",
    "    month = quarter * 3 - 2\n",
    "    # Turn it into a datetime\n",
    "    return dt(year, month, 1)\n",
    "\n",
    "# Apply the convert_to_date function to the dataframe to get a new column\n",
    "sbi_data['Date of Quarter Start'] = sbi_data['Year and Quarter'].apply(lambda x: convert_to_date(x))\n",
    "\n",
    "#Check it!\n",
    "#Make sure they match up\n",
    "print(sbi_data[['Year and Quarter', 'Date of Quarter Start']].head())\n",
    "print(sbi_data[['Year and Quarter', 'Date of Quarter Start']].tail())\n",
    "# Make sure there are no surprises\n",
    "print(sbi_data['Date of Quarter Start'].unique())\n"
   ]
  },
  {
   "cell_type": "markdown",
   "metadata": {},
   "source": [
    "## Some Questions to Ask \n",
    "Based on the dataset, there are several avenues we can investigate. How does race affect the rate of C-section? How do average teen birth rates change over time? Does the rate of certain term births vary over time? "
   ]
  },
  {
   "cell_type": "markdown",
   "metadata": {},
   "source": [
    "### How does the race of the mother relate to her chances of giving birth via cesarean section? "
   ]
  },
  {
   "cell_type": "code",
   "execution_count": 162,
   "metadata": {},
   "outputs": [
    {
     "name": "stdout",
     "output_type": "stream",
     "text": [
      "    Year and Quarter               Topic           Topic Subgroup Indicator  \\\n",
      "80           2022 Q2  Method of Delivery  Cesarean Delivery Rates  Cesarean   \n",
      "81           2022 Q2  Method of Delivery  Cesarean Delivery Rates  Cesarean   \n",
      "82           2022 Q2  Method of Delivery  Cesarean Delivery Rates  Cesarean   \n",
      "83           2022 Q2  Method of Delivery  Cesarean Delivery Rates  Cesarean   \n",
      "180          2022 Q1  Method of Delivery  Cesarean Delivery Rates  Cesarean   \n",
      "181          2022 Q1  Method of Delivery  Cesarean Delivery Rates  Cesarean   \n",
      "182          2022 Q1  Method of Delivery  Cesarean Delivery Rates  Cesarean   \n",
      "183          2022 Q1  Method of Delivery  Cesarean Delivery Rates  Cesarean   \n",
      "\n",
      "    Race Ethnicity Category  Rate            Unit Significant  \\\n",
      "80    All races and origins  32.2  per 100 births           *   \n",
      "81                 Hispanic  31.7  per 100 births           *   \n",
      "82       Non-Hispanic Black  36.8  per 100 births         NaN   \n",
      "83       Non-Hispanic White  31.1  per 100 births           *   \n",
      "180   All races and origins  32.1  per 100 births         NaN   \n",
      "181                Hispanic  31.6  per 100 births         NaN   \n",
      "182      Non-Hispanic Black  36.8  per 100 births         NaN   \n",
      "183      Non-Hispanic White  31.1  per 100 births         NaN   \n",
      "\n",
      "    Date of Quarter Start  \n",
      "80             2022-04-01  \n",
      "81             2022-04-01  \n",
      "82             2022-04-01  \n",
      "83             2022-04-01  \n",
      "180            2022-01-01  \n",
      "181            2022-01-01  \n",
      "182            2022-01-01  \n",
      "183            2022-01-01  \n"
     ]
    }
   ],
   "source": [
    "# Isolate the data pertaining to C-Sections\n",
    "cesarean_data = sbi_data[sbi_data['Indicator'] == 'Cesarean'] \n",
    "\n",
    "# Take a look\n",
    "print(cesarean_data.head(8))"
   ]
  },
  {
   "cell_type": "code",
   "execution_count": 163,
   "metadata": {},
   "outputs": [
    {
     "name": "stdout",
     "output_type": "stream",
     "text": [
      "Year and Quarter\n",
      "['2022 Q2' '2022 Q1' '2021 Q4' '2021 Q3' '2021 Q2' '2021 Q1' '2020 Q4'\n",
      " '2020 Q3' '2020 Q2' '2020 Q1']\n",
      "Topic\n",
      "['Method of Delivery']\n",
      "Topic Subgroup\n",
      "['Cesarean Delivery Rates']\n",
      "Indicator\n",
      "['Cesarean']\n",
      "Race Ethnicity Category\n",
      "['All races and origins' 'Hispanic' 'Non-Hispanic Black'\n",
      " 'Non-Hispanic White']\n",
      "Rate\n",
      "[32.2 31.7 36.8 31.1 32.1 31.6 31.  32.  30.9 31.9 31.5 36.7 36.6 30.8\n",
      " 31.8 31.4 36.3 36.1 31.3 35.9 30.7]\n",
      "Unit\n",
      "['per 100 births']\n",
      "Significant\n",
      "['*' nan]\n",
      "Date of Quarter Start\n",
      "['2022-04-01T00:00:00.000000000' '2022-01-01T00:00:00.000000000'\n",
      " '2021-10-01T00:00:00.000000000' '2021-07-01T00:00:00.000000000'\n",
      " '2021-04-01T00:00:00.000000000' '2021-01-01T00:00:00.000000000'\n",
      " '2020-10-01T00:00:00.000000000' '2020-07-01T00:00:00.000000000'\n",
      " '2020-04-01T00:00:00.000000000' '2020-01-01T00:00:00.000000000']\n"
     ]
    }
   ],
   "source": [
    "# Keeping all of these columns is unneccesary. Let's get rid of anything that has no variability.\n",
    "for col in cesarean_data:\n",
    "    print(col)\n",
    "    # Print the unique values to see if there is any variability.\n",
    "    # Also gives us a reference for what that value was once the column is deleted\n",
    "    print(cesarean_data[col].unique())"
   ]
  },
  {
   "cell_type": "code",
   "execution_count": 164,
   "metadata": {},
   "outputs": [
    {
     "name": "stdout",
     "output_type": "stream",
     "text": [
      "    Year and Quarter Race Ethnicity Category  Rate Significant\n",
      "80           2022 Q2   All races and origins  32.2           *\n",
      "81           2022 Q2                Hispanic  31.7           *\n",
      "82           2022 Q2      Non-Hispanic Black  36.8         NaN\n",
      "83           2022 Q2      Non-Hispanic White  31.1           *\n",
      "180          2022 Q1   All races and origins  32.1         NaN\n"
     ]
    }
   ],
   "source": [
    "# Looks like we can drop Topic, Topic Subgroup, Indicator, Unit, and Date of Quarter Start\n",
    "cesarean_data = cesarean_data.drop(columns=['Topic', 'Topic Subgroup', 'Indicator', 'Unit', 'Date of Quarter Start'])\n",
    "\n",
    "print(cesarean_data.head()) # Much cleaner!"
   ]
  },
  {
   "cell_type": "code",
   "execution_count": 165,
   "metadata": {},
   "outputs": [
    {
     "name": "stdout",
     "output_type": "stream",
     "text": [
      "[0, 1, 2, 3, 4, 5, 6, 7, 8, 9]\n",
      "['2022 Q2', '2022 Q1', '2021 Q4', '2021 Q3', '2021 Q2', '2021 Q1', '2020 Q4', '2020 Q3', '2020 Q2', '2020 Q1']\n",
      "[32.2, 32.1, 32.1, 32.0, 31.9, 31.9, 31.8, 31.8, 31.7, 31.7]\n",
      "[31.7, 31.6, 31.6, 31.6, 31.5, 31.5, 31.4, 31.4, 31.3, 31.3]\n",
      "[36.8, 36.8, 36.8, 36.8, 36.7, 36.6, 36.3, 36.1, 35.9, 35.9]\n",
      "[31.1, 31.1, 31.0, 30.9, 30.9, 30.8, 30.8, 30.8, 30.7, 30.7]\n"
     ]
    }
   ],
   "source": [
    "# Before we can plot our data, we need some x and y coordinates to plot! \n",
    "# Our x-values need to match the length of our list of years and quarters\n",
    "x_values = list(range(len(cesarean_data['Year and Quarter'].unique())))\n",
    "x_labels = list(cesarean_data['Year and Quarter'].unique())\n",
    "\n",
    "# We can pull our y_values from the Rate column\n",
    "y_values_all_races_and_origins = cesarean_data['Rate'][cesarean_data['Race Ethnicity Category'] == 'All races and origins'].values.tolist()\n",
    "y_values_hispanic = cesarean_data['Rate'][cesarean_data['Race Ethnicity Category'] == 'Hispanic'].values.tolist()\n",
    "y_values_non_hispanic_black = cesarean_data['Rate'][cesarean_data['Race Ethnicity Category'] == 'Non-Hispanic Black'].values.tolist()\n",
    "y_values_non_hispanic_white = cesarean_data['Rate'][cesarean_data['Race Ethnicity Category'] == 'Non-Hispanic White'].values.tolist()\n",
    "\n",
    "print(x_values)\n",
    "print(x_labels)\n",
    "print(y_values_all_races_and_origins)\n",
    "print(y_values_hispanic)\n",
    "print(y_values_non_hispanic_black)\n",
    "print(y_values_non_hispanic_white)"
   ]
  },
  {
   "cell_type": "code",
   "execution_count": 166,
   "metadata": {},
   "outputs": [
    {
     "name": "stdout",
     "output_type": "stream",
     "text": [
      "[0, 1, 2, 3, 4, 5, 6, 7, 8, 9]\n",
      "['2020 Q1', '2020 Q2', '2020 Q3', '2020 Q4', '2021 Q1', '2021 Q2', '2021 Q3', '2021 Q4', '2022 Q1', '2022 Q2']\n",
      "[31.7, 31.7, 31.8, 31.8, 31.9, 31.9, 32.0, 32.1, 32.1, 32.2]\n",
      "[31.3, 31.3, 31.4, 31.4, 31.5, 31.5, 31.6, 31.6, 31.6, 31.7]\n",
      "[35.9, 35.9, 36.1, 36.3, 36.6, 36.7, 36.8, 36.8, 36.8, 36.8]\n",
      "[30.7, 30.7, 30.8, 30.8, 30.8, 30.9, 30.9, 31.0, 31.1, 31.1]\n"
     ]
    }
   ],
   "source": [
    "# This lists look great, with one problem. All the data from the dataframe is in reverse time order!\n",
    "# Let's fix that.\n",
    "\n",
    "list.reverse(x_labels)\n",
    "list.reverse(y_values_all_races_and_origins)\n",
    "list.reverse(y_values_hispanic)\n",
    "list.reverse(y_values_non_hispanic_black)\n",
    "list.reverse(y_values_non_hispanic_white)\n",
    "\n",
    "\n",
    "print(x_values)\n",
    "print(x_labels)\n",
    "print(y_values_all_races_and_origins)\n",
    "print(y_values_hispanic)\n",
    "print(y_values_non_hispanic_black)\n",
    "print(y_values_non_hispanic_white)"
   ]
  },
  {
   "cell_type": "code",
   "execution_count": 170,
   "metadata": {},
   "outputs": [
    {
     "data": {
      "image/png": "[encoded data removed]",
      "text/plain": [
       "<Figure size 432x288 with 1 Axes>"
      ]
     },
     "metadata": {
      "needs_background": "light"
     },
     "output_type": "display_data"
    },
    {
     "data": {
      "text/plain": [
       "<Figure size 432x288 with 0 Axes>"
      ]
     },
     "metadata": {},
     "output_type": "display_data"
    }
   ],
   "source": [
    "# Now the data can be plotted\n",
    "\n",
    "plt.figure()\n",
    "ax = plt.subplot(1, 1, 1)\n",
    "plt.plot(y_values_all_races_and_origins, 'ko-', label='All Races and Origins')\n",
    "plt.plot(y_values_hispanic, 'rD-', label='Hispanic')\n",
    "plt.plot(y_values_non_hispanic_black, 'bs-', label='Non-Hispanic Black')\n",
    "plt.plot(y_values_non_hispanic_white, 'g^-', label='Non-Hispanic White')\n",
    "\n",
    "ax.set_xticks(x_values)\n",
    "ax.set_xticklabels(x_labels, rotation=45)\n",
    "\n",
    "plt.legend()\n",
    "plt.title('Rate of Cesarean Section Over Time')\n",
    "plt.ylabel('Rate per 100 Births')\n",
    "\n",
    "plt.show()\n",
    "plt.clf()\n"
   ]
  },
  {
   "cell_type": "markdown",
   "metadata": {},
   "source": [
    "Over the past two years, there has been the slightest uptick in Cesarean Sections. This is unsurprising given that the rate of Cesarean Sections in the US has been climbing steadily for decades. According to the CDC, in 1970 the rate of Cesarean section was just 5%. This high rate of Cesarean Section is alarming, even moreso in that women of color appear to be disproportionately affected. "
   ]
  },
  {
   "cell_type": "markdown",
   "metadata": {},
   "source": [
    "### How did teen birth rates change over time from 2020 to 2022?"
   ]
  },
  {
   "cell_type": "code",
   "execution_count": 199,
   "metadata": {},
   "outputs": [
    {
     "name": "stdout",
     "output_type": "stream",
     "text": [
      "   Year and Quarter        Topic    Topic Subgroup    Indicator  \\\n",
      "36          2022 Q2  Birth Rates  Teen Birth Rates  10-14 years   \n",
      "37          2022 Q2  Birth Rates  Teen Birth Rates  10-14 years   \n",
      "38          2022 Q2  Birth Rates  Teen Birth Rates  10-14 years   \n",
      "39          2022 Q2  Birth Rates  Teen Birth Rates  10-14 years   \n",
      "40          2022 Q2  Birth Rates  Teen Birth Rates  15-17 years   \n",
      "\n",
      "   Race Ethnicity Category  Rate                  Unit Significant  \\\n",
      "36   All races and origins   0.2  per 1,000 population         NaN   \n",
      "37                Hispanic   0.3  per 1,000 population         NaN   \n",
      "38      Non-Hispanic Black   0.3  per 1,000 population           *   \n",
      "39      Non-Hispanic White   0.1  per 1,000 population         NaN   \n",
      "40   All races and origins   5.5  per 1,000 population           *   \n",
      "\n",
      "   Date of Quarter Start  \n",
      "36            2022-04-01  \n",
      "37            2022-04-01  \n",
      "38            2022-04-01  \n",
      "39            2022-04-01  \n",
      "40            2022-04-01  \n"
     ]
    }
   ],
   "source": [
    "# Isolate the data pertaining to teen birth rates\n",
    "teen_birth_rate_data = sbi_data[sbi_data['Topic Subgroup'] == 'Teen Birth Rates']\n",
    "\n",
    "# Let's see!\n",
    "print(teen_birth_rate_data.head())\n"
   ]
  },
  {
   "cell_type": "code",
   "execution_count": 200,
   "metadata": {},
   "outputs": [
    {
     "name": "stdout",
     "output_type": "stream",
     "text": [
      "Year and Quarter\n",
      "['2022 Q2' '2022 Q1' '2021 Q4' '2021 Q3' '2021 Q2' '2021 Q1' '2020 Q4'\n",
      " '2020 Q3' '2020 Q2' '2020 Q1']\n",
      "Topic\n",
      "['Birth Rates']\n",
      "Topic Subgroup\n",
      "['Teen Birth Rates']\n",
      "Indicator\n",
      "['10-14 years' '15-17 years' '18-19 years' '15-19 years']\n",
      "Race Ethnicity Category\n",
      "['All races and origins' 'Hispanic' 'Non-Hispanic Black'\n",
      " 'Non-Hispanic White']\n",
      "Rate\n",
      "[ 0.2  0.3  0.1  5.5  9.2  9.   3.1 26.  39.6 38.8 18.1 13.7 21.  20.8\n",
      "  5.6  9.3  3.2 26.4 39.8 18.4 13.9 21.2 21.4 26.6 40.6 18.7 21.1 21.8\n",
      "  9.4  0.4  5.7  9.6 26.9 40.1 41.2 18.9 14.1 22.3  9.5  5.8  9.7  9.9\n",
      " 27.2 40.5 41.7 19.1 14.4 21.7 22.8  5.9  9.8 10.1  3.3 27.4 40.9 41.9\n",
      " 19.4 14.5 22.  23.   6.3 10.5 10.8  3.5 28.9 43.3 43.9 20.5 15.4 23.5\n",
      " 24.4 10.4  6.4  3.6 29.6 44.2 44.9 15.8 24.  24.8 10.7  6.5 11.   3.7\n",
      " 30.2 45.2 45.8 21.5 16.1 24.6 25.4 10.9  6.6 11.3 11.1 30.7 46.1 21.9\n",
      " 16.4 25.  25.6 11.2]\n",
      "Unit\n",
      "['per 1,000 population']\n",
      "Significant\n",
      "[nan '*']\n",
      "Date of Quarter Start\n",
      "['2022-04-01T00:00:00.000000000' '2022-01-01T00:00:00.000000000'\n",
      " '2021-10-01T00:00:00.000000000' '2021-07-01T00:00:00.000000000'\n",
      " '2021-04-01T00:00:00.000000000' '2021-01-01T00:00:00.000000000'\n",
      " '2020-10-01T00:00:00.000000000' '2020-07-01T00:00:00.000000000'\n",
      " '2020-04-01T00:00:00.000000000' '2020-01-01T00:00:00.000000000']\n"
     ]
    }
   ],
   "source": [
    "# Keeping all of these columns is unneccesary. Let's get rid of anything that has no variability.\n",
    "for col in teen_birth_rate_data:\n",
    "    print(col)\n",
    "    # Print the unique values to see if there is any variability.\n",
    "    # Also gives us a reference for what that value was once the column is deleted\n",
    "    print(teen_birth_rate_data[col].unique())"
   ]
  },
  {
   "cell_type": "code",
   "execution_count": 201,
   "metadata": {},
   "outputs": [
    {
     "name": "stdout",
     "output_type": "stream",
     "text": [
      "    Year and Quarter    Indicator Race Ethnicity Category  Rate\n",
      "36           2022 Q2  10-14 years   All races and origins   0.2\n",
      "40           2022 Q2  15-17 years   All races and origins   5.5\n",
      "44           2022 Q2  18-19 years   All races and origins  26.0\n",
      "48           2022 Q2  15-19 years   All races and origins  13.7\n",
      "136          2022 Q1  10-14 years   All races and origins   0.2\n"
     ]
    }
   ],
   "source": [
    "# Let's drop what we don't need\n",
    "teen_birth_rate_data = teen_birth_rate_data.drop(columns=['Topic', 'Topic Subgroup', 'Unit', 'Significant', 'Date of Quarter Start'])\n",
    "\n",
    "# We're focusing on all races and origins\n",
    "teen_birth_rate_data = teen_birth_rate_data[teen_birth_rate_data['Race Ethnicity Category'] == 'All races and origins']\n",
    "\n",
    "print(teen_birth_rate_data.head()) # Much cleaner!"
   ]
  },
  {
   "cell_type": "code",
   "execution_count": 206,
   "metadata": {},
   "outputs": [
    {
     "name": "stdout",
     "output_type": "stream",
     "text": [
      "[0, 1, 2, 3, 4, 5, 6, 7, 8, 9]\n",
      "['2020 Q1', '2020 Q2', '2020 Q3', '2020 Q4', '2021 Q1', '2021 Q2', '2021 Q3', '2021 Q4', '2022 Q1', '2022 Q2']\n",
      "[0.2, 0.2, 0.2, 0.2, 0.2, 0.2, 0.2, 0.2, 0.2, 0.2]\n",
      "[6.6, 6.5, 6.4, 6.3, 5.9, 5.8, 5.7, 5.6, 5.6, 5.5]\n",
      "[30.7, 30.2, 29.6, 28.9, 27.4, 27.2, 26.9, 26.6, 26.4, 26.0]\n"
     ]
    }
   ],
   "source": [
    "# Before we can plot our data, we need some x and y coordinates to plot! \n",
    "# Our x-values need to match the length of our list of years and quarters\n",
    "x_values = list(range(len(teen_birth_rate_data['Year and Quarter'].unique())))\n",
    "x_labels = list(teen_birth_rate_data['Year and Quarter'].unique())\n",
    "\n",
    "# We can pull our y_values from the Rate column\n",
    "y_values_10_14_years = teen_birth_rate_data['Rate'][teen_birth_rate_data['Indicator'] == '10-14 years'].values.tolist()\n",
    "y_values_15_17_years = teen_birth_rate_data['Rate'][teen_birth_rate_data['Indicator'] == '15-17 years'].values.tolist()\n",
    "y_values_18_19_years = teen_birth_rate_data['Rate'][teen_birth_rate_data['Indicator'] == '18-19 years'].values.tolist()\n",
    "\n",
    "# Reverse to move forward in time\n",
    "list.reverse(x_labels)\n",
    "list.reverse(y_values_10_14_years)\n",
    "list.reverse(y_values_15_17_years)\n",
    "list.reverse(y_values_18_19_years)\n",
    "\n",
    "\n",
    "print(x_values)\n",
    "print(x_labels)\n",
    "print(y_values_10_14_years)\n",
    "print(y_values_15_17_years)\n",
    "print(y_values_18_19_years)"
   ]
  },
  {
   "cell_type": "code",
   "execution_count": 207,
   "metadata": {},
   "outputs": [
    {
     "data": {
      "image/png": "[encoded data removed]",
      "text/plain": [
       "<Figure size 432x288 with 1 Axes>"
      ]
     },
     "metadata": {
      "needs_background": "light"
     },
     "output_type": "display_data"
    },
    {
     "data": {
      "text/plain": [
       "<Figure size 432x288 with 0 Axes>"
      ]
     },
     "metadata": {},
     "output_type": "display_data"
    }
   ],
   "source": [
    "#Plot the data\n",
    "\n",
    "plt.figure()\n",
    "ax = plt.subplot(1, 1, 1)\n",
    "plt.plot(y_values_10_14_years, 'ko-', label='10-14 Years')\n",
    "plt.plot(y_values_15_17_years, 'rD-', label='15-17 Years')\n",
    "plt.plot(y_values_18_19_years, 'bs-', label='18-19 Years')\n",
    "\n",
    "ax.set_xticks(x_values)\n",
    "ax.set_xticklabels(x_labels, rotation=45)\n",
    "\n",
    "plt.legend()\n",
    "plt.title('Teen Birth Rates Over Time')\n",
    "plt.ylabel('Rate per 1,000 Births')\n",
    "\n",
    "plt.show()\n",
    "plt.clf()"
   ]
  },
  {
   "cell_type": "markdown",
   "metadata": {},
   "source": [
    "There is a slight decline in teen birth rates in the past 2.5 years. Historical data is needed to determine if this is part of a larger trend, or if it may be more closely related to the Covid-19 pandemic."
   ]
  },
  {
   "cell_type": "markdown",
   "metadata": {},
   "source": [
    "### How does rate of births at various pregnancy terms change over time from 2020 to 2022? "
   ]
  },
  {
   "cell_type": "code",
   "execution_count": 216,
   "metadata": {},
   "outputs": [
    {
     "name": "stdout",
     "output_type": "stream",
     "text": [
      "    Year and Quarter    Indicator  Rate Significant Date of Quarter Start\n",
      "0            2022 Q2  10-14 years   0.2         NaN            2022-04-01\n",
      "4            2022 Q2  15-19 years  13.7           *            2022-04-01\n",
      "8            2022 Q2  20-24 years  60.9           *            2022-04-01\n",
      "12           2022 Q2  25-29 years  93.4           *            2022-04-01\n",
      "16           2022 Q2  30-34 years  97.7           *            2022-04-01\n",
      "20           2022 Q2  35-39 years  54.8           *            2022-04-01\n",
      "24           2022 Q2  40-44 years  12.4           *            2022-04-01\n",
      "28           2022 Q2    45+ years   1.0           *            2022-04-01\n",
      "100          2022 Q1  10-14 years   0.2         NaN            2022-01-01\n",
      "104          2022 Q1  15-19 years  13.9         NaN            2022-01-01\n"
     ]
    },
    {
     "name": "stderr",
     "output_type": "stream",
     "text": [
      "/var/folders/94/7f517br10jx0rd_ymdxf0y2h0000gn/T/ipykernel_73514/3067536460.py:2: UserWarning: Boolean Series key will be reindexed to match DataFrame index.\n",
      "  age_specific_data = sbi_data[sbi_data['Topic Subgroup'] == 'Age-specific Birth Rates'][sbi_data['Race Ethnicity Category'] == 'All races and origins']\n"
     ]
    }
   ],
   "source": [
    "# Isolate desired data\n",
    "age_specific_data = sbi_data[sbi_data['Topic Subgroup'] == 'Age-specific Birth Rates'][sbi_data['Race Ethnicity Category'] == 'All races and origins']\n",
    "\n",
    "# Drop unnecessary columns for ease of reading (all units out of 1,000)\n",
    "age_specific_data = age_specific_data.drop(columns=['Topic', 'Topic Subgroup', 'Race Ethnicity Category', 'Unit'])\n",
    "\n",
    "print(age_specific_data.head(10))"
   ]
  },
  {
   "cell_type": "code",
   "execution_count": 218,
   "metadata": {},
   "outputs": [
    {
     "name": "stdout",
     "output_type": "stream",
     "text": [
      "[0, 1, 2, 3, 4, 5, 6, 7, 8, 9]\n",
      "['2020 Q1', '2020 Q2', '2020 Q3', '2020 Q4', '2021 Q1', '2021 Q2', '2021 Q3', '2021 Q4', '2022 Q1', '2022 Q2']\n",
      "[0.2, 0.2, 0.2, 0.2, 0.2, 0.2, 0.2, 0.2, 0.2, 0.2]\n",
      "[16.4, 16.1, 15.8, 15.4, 14.5, 14.4, 14.1, 13.9, 13.9, 13.7]\n",
      "[60.9, 61.3, 61.5, 61.5, 61.7, 62.1, 63.0, 64.1, 65.5, 66.2]\n",
      "[60.9, 61.3, 61.5, 61.5, 61.7, 62.1, 63.0, 64.1, 65.5, 66.2]\n",
      "[93.6, 92.6, 91.3, 90.2, 90.5, 91.0, 91.8, 93.0, 93.7, 93.4]\n",
      "[98.3, 97.5, 96.3, 94.9, 93.9, 94.7, 95.9, 97.6, 98.2, 97.7]\n",
      "[52.8, 52.8, 52.6, 51.8, 50.9, 51.4, 52.2, 53.7, 54.6, 54.8]\n",
      "[12.1, 12.1, 12.0, 11.8, 11.4, 11.5, 11.7, 12.0, 12.3, 12.4]\n",
      "[0.9, 1.0, 1.0, 0.9, 0.9, 0.9, 0.9, 0.9, 1.0, 1.0]\n"
     ]
    }
   ],
   "source": [
    "# Get x and y values\n",
    "x_values = list(range(len(age_specific_data['Year and Quarter'].unique())))\n",
    "x_labels = list(age_specific_data['Year and Quarter'].unique())\n",
    "\n",
    "# We can pull our y_values from the Rate column\n",
    "y_values_10_14_years = age_specific_data['Rate'][age_specific_data['Indicator'] == '10-14 years'].values.tolist()\n",
    "y_values_15_19_years = age_specific_data['Rate'][age_specific_data['Indicator'] == '15-19 years'].values.tolist()\n",
    "y_values_20_24_years = age_specific_data['Rate'][age_specific_data['Indicator'] == '20-24 years'].values.tolist()\n",
    "y_values_25_29_years = age_specific_data['Rate'][age_specific_data['Indicator'] == '25-29 years'].values.tolist()\n",
    "y_values_30_34_years = age_specific_data['Rate'][age_specific_data['Indicator'] == '30-34 years'].values.tolist()\n",
    "y_values_35_39_years = age_specific_data['Rate'][age_specific_data['Indicator'] == '35-39 years'].values.tolist()\n",
    "y_values_40_44_years = age_specific_data['Rate'][age_specific_data['Indicator'] == '40-44 years'].values.tolist()\n",
    "y_values_45_plus_years = age_specific_data['Rate'][age_specific_data['Indicator'] == '45+ years'].values.tolist()\n",
    "\n",
    "# Reverse to move forward in time\n",
    "list.reverse(x_labels)\n",
    "list.reverse(y_values_10_14_years)\n",
    "list.reverse(y_values_15_19_years)\n",
    "list.reverse(y_values_20_24_years)\n",
    "list.reverse(y_values_25_29_years)\n",
    "list.reverse(y_values_30_34_years)\n",
    "list.reverse(y_values_35_39_years)\n",
    "list.reverse(y_values_40_44_years)\n",
    "list.reverse(y_values_45_plus_years)"
   ]
  },
  {
   "cell_type": "code",
   "execution_count": 232,
   "metadata": {},
   "outputs": [
    {
     "data": {
      "image/png": "[encoded data removed]",
      "text/plain": [
       "<Figure size 432x288 with 1 Axes>"
      ]
     },
     "metadata": {
      "needs_background": "light"
     },
     "output_type": "display_data"
    },
    {
     "data": {
      "text/plain": [
       "<Figure size 432x288 with 0 Axes>"
      ]
     },
     "metadata": {},
     "output_type": "display_data"
    }
   ],
   "source": [
    "#Plot the data\n",
    "\n",
    "plt.figure()\n",
    "ax = plt.subplot(1, 1, 1)\n",
    "plt.plot(y_values_10_14_years, 'ko-', label='10-14 Years')\n",
    "plt.plot(y_values_15_19_years, 'bo-', label='15-19 Years')\n",
    "plt.plot(y_values_20_24_years, 'ys-', label='20-24 Years')\n",
    "plt.plot(y_values_25_29_years, 'gs-', label='25-29 Years')\n",
    "plt.plot(y_values_30_34_years, 'b*--', label='30-34 Years')\n",
    "plt.plot(y_values_35_39_years, 'm*--', label='35-39 Years')\n",
    "plt.plot(y_values_40_44_years, 'yD--', label='40-44 Years')\n",
    "plt.plot(y_values_45_plus_years, 'rD--', label='45+ Years')\n",
    "\n",
    "ax.set_xticks(x_values)\n",
    "ax.set_xticklabels(x_labels, rotation=45)\n",
    "\n",
    "plt.legend(bbox_to_anchor=(1.1, 1.05))\n",
    "plt.title('Birth Rates Over Time')\n",
    "plt.ylabel('Rate per 1,000 Births')\n",
    "\n",
    "plt.show()\n",
    "plt.clf()"
   ]
  },
  {
   "cell_type": "markdown",
   "metadata": {},
   "source": [
    "Birth rate varies greatly depending on the age of the mother. People between the ages of 25 to 34 are the most likely to give birth. (This does not reflect on their fertility.) People are the least likely to give birth under the age of 14 or over the age of 45. "
   ]
  }
 ],
 "metadata": {
  "kernelspec": {
   "display_name": "Python 3.9.12 ('base')",
   "language": "python",
   "name": "python3"
  },
  "language_info": {
   "codemirror_mode": {
    "name": "ipython",
    "version": 3
   },
   "file_extension": ".py",
   "mimetype": "text/x-python",
   "name": "python",
   "nbconvert_exporter": "python",
   "pygments_lexer": "ipython3",
   "version": "3.9.12"
  },
  "orig_nbformat": 4,
  "vscode": {
   "interpreter": {
    "hash": "40d3a090f54c6569ab1632332b64b2c03c39dcf918b08424e98f38b5ae0af88f"
   }
  }
 },
 "nbformat": 4,
 "nbformat_minor": 2
}
