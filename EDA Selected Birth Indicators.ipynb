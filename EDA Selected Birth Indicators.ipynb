{
 "cells": [
  {
   "cell_type": "markdown",
   "metadata": {},
   "source": [
    "# EDA of Selected Birtrh Indicators Data Set"
   ]
  },
  {
   "cell_type": "code",
   "execution_count": 1,
   "metadata": {},
   "outputs": [],
   "source": [
    "# Import libraries\n",
    "import pandas as pd"
   ]
  },
  {
   "cell_type": "code",
   "execution_count": 2,
   "metadata": {},
   "outputs": [
    {
     "name": "stdout",
     "output_type": "stream",
     "text": [
      "  Year and Quarter        Topic            Topic Subgroup    Indicator  \\\n",
      "0          2022 Q2  Birth Rates  Age-specific Birth Rates  10-14 years   \n",
      "1          2022 Q2  Birth Rates  Age-specific Birth Rates  10-14 years   \n",
      "2          2022 Q2  Birth Rates  Age-specific Birth Rates  10-14 years   \n",
      "3          2022 Q2  Birth Rates  Age-specific Birth Rates  10-14 years   \n",
      "4          2022 Q2  Birth Rates  Age-specific Birth Rates  15-19 years   \n",
      "\n",
      "  Race Ethnicity Category  Rate                  Unit Significant  \n",
      "0   All races and origins   0.2  per 1,000 population         NaN  \n",
      "1                Hispanic   0.3  per 1,000 population         NaN  \n",
      "2      Non-Hispanic Black   0.3  per 1,000 population           *  \n",
      "3      Non-Hispanic White   0.1  per 1,000 population         NaN  \n",
      "4   All races and origins  13.7  per 1,000 population           *  \n"
     ]
    }
   ],
   "source": [
    "# Load data\n",
    "sbi_data = pd.read_csv('NCHS_-_VSRR_Quarterly_provisional_estimates_for_selected_birth_indicators.csv')\n",
    "\n",
    "# Take a peek!\n",
    "print(sbi_data.head())"
   ]
  },
  {
   "cell_type": "code",
   "execution_count": 6,
   "metadata": {},
   "outputs": [
    {
     "name": "stdout",
     "output_type": "stream",
     "text": [
      "Index(['Year and Quarter', 'Topic', 'Topic Subgroup', 'Indicator',\n",
      "       'Race Ethnicity Category', 'Rate', 'Unit', 'Significant'],\n",
      "      dtype='object')\n",
      "              Rate\n",
      "count  1000.000000\n",
      "mean     28.419060\n",
      "std      28.223903\n",
      "min       0.100000\n",
      "25%       7.440000\n",
      "50%      14.600000\n",
      "75%      49.125000\n",
      "max     111.800000\n",
      "<class 'pandas.core.frame.DataFrame'>\n",
      "RangeIndex: 1000 entries, 0 to 999\n",
      "Data columns (total 8 columns):\n",
      " #   Column                   Non-Null Count  Dtype  \n",
      "---  ------                   --------------  -----  \n",
      " 0   Year and Quarter         1000 non-null   object \n",
      " 1   Topic                    1000 non-null   object \n",
      " 2   Topic Subgroup           1000 non-null   object \n",
      " 3   Indicator                1000 non-null   object \n",
      " 4   Race Ethnicity Category  1000 non-null   object \n",
      " 5   Rate                     1000 non-null   float64\n",
      " 6   Unit                     1000 non-null   object \n",
      " 7   Significant              84 non-null     object \n",
      "dtypes: float64(1), object(7)\n",
      "memory usage: 62.6+ KB\n",
      "None\n"
     ]
    }
   ],
   "source": [
    "# Let's get a more detailed view of the data\n",
    "print(sbi_data.columns) # What are the names of the columns?\n",
    "print(sbi_data.describe()) # Some basic stats\n",
    "print(sbi_data.info()) # Checking for missing data and dtypes"
   ]
  }
 ],
 "metadata": {
  "kernelspec": {
   "display_name": "Python 3.9.12 ('base')",
   "language": "python",
   "name": "python3"
  },
  "language_info": {
   "codemirror_mode": {
    "name": "ipython",
    "version": 3
   },
   "file_extension": ".py",
   "mimetype": "text/x-python",
   "name": "python",
   "nbconvert_exporter": "python",
   "pygments_lexer": "ipython3",
   "version": "3.9.12"
  },
  "orig_nbformat": 4,
  "vscode": {
   "interpreter": {
    "hash": "40d3a090f54c6569ab1632332b64b2c03c39dcf918b08424e98f38b5ae0af88f"
   }
  }
 },
 "nbformat": 4,
 "nbformat_minor": 2
}
